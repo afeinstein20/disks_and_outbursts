{
 "cells": [
  {
   "cell_type": "code",
   "execution_count": 1,
   "metadata": {},
   "outputs": [],
   "source": [
    "import yaml\n",
    "import pickle\n",
    "import os, sys\n",
    "import numpy as np\n",
    "import matplotlib.pyplot as plt\n",
    "from astropy.table import Table\n",
    "import matplotlib as mpl\n",
    "from astropy import constants, units\n",
    "\n",
    "from scripts import *\n",
    "\n",
    "plt.rcParams['font.size'] = 16\n",
    "path = '/Users/arcticfox/Documents/GitHub/disks_and_outbursts/radmc'\n",
    "path = '/Users/arcticfox/Documents/disks'"
   ]
  },
  {
   "cell_type": "markdown",
   "metadata": {},
   "source": [
    "## MIST table"
   ]
  },
  {
   "cell_type": "code",
   "execution_count": null,
   "metadata": {},
   "outputs": [],
   "source": [
    "model_path = '/Users/arcticfox/Documents/disks/MIST_models'\n",
    "model_fns = np.sort([os.path.join(model_path, i) for i in os.listdir(model_path)])"
   ]
  },
  {
   "cell_type": "code",
   "execution_count": null,
   "metadata": {},
   "outputs": [],
   "source": [
    "for i in range(len(model_fns)):\n",
    "    tab = Table.read(model_fns[i], format='ascii')\n",
    "    row = tab[tab['star_age']>=10**6][0]\n",
    "    print(row['star_mass'], 10**row['log_Teff'], 10**row['log_L'])"
   ]
  },
  {
   "cell_type": "code",
   "execution_count": null,
   "metadata": {},
   "outputs": [],
   "source": [
    "steps = [0.5, 1.0, 1.5, 2.0, 2.5, 3.0]"
   ]
  },
  {
   "cell_type": "markdown",
   "metadata": {},
   "source": [
    "## RADMC model call"
   ]
  },
  {
   "cell_type": "code",
   "execution_count": null,
   "metadata": {
    "scrolled": false
   },
   "outputs": [
    {
     "name": "stdout",
     "output_type": "stream",
     "text": [
      "bigdisk\n",
      "saved star spectrum\n",
      "0.1 50.0\n",
      "Saved radmc setup files in /Users/arcticfox/Documents/disks/models/bigdisk\n"
     ]
    }
   ],
   "source": [
    "norm = setup(PATH=path, models=['bigdisk'], \n",
    "             uv=True, run=True, ndust=2,\n",
    "             disk_params={'r_in':0.1, 'r_out':50.0, 'r_peb':50.0, 'r_snow':0.},\n",
    "             grid_params={'ntheta':90, \n",
    "                          'nr':110, \n",
    "                          'n_in':0.05},\n",
    "             star_params={'L_uv_star':10**3},\n",
    "             disk_type='herbig', nphot=10**7)\n",
    "            ## nr = 100; ntheta=96"
   ]
  },
  {
   "cell_type": "code",
   "execution_count": null,
   "metadata": {},
   "outputs": [],
   "source": [
    "norm = setup(PATH=path, models=['bigdisk100'], \n",
    "             uv=True, run=True,\n",
    "             disk_params={'r_in':0.1, 'r_out':50.0, 'r_peb':50.0, 'r_snow':0},\n",
    "             grid_params={'ntheta':100, \n",
    "                          'nr':120, \n",
    "                          'n_in':0.05},\n",
    "             star_params={'T_star':6000,\n",
    "                          'L_uv_star':10**6},\n",
    "             disk_type='herbig')\n",
    "            ## nr = 100; ntheta=96"
   ]
  },
  {
   "cell_type": "code",
   "execution_count": null,
   "metadata": {},
   "outputs": [],
   "source": [
    "def open_pickles(path):\n",
    "    with open(os.path.join(path,'diskdata.pkl'), 'rb') as infile:\n",
    "              diskinp = pickle.load(infile)\n",
    "              ddustsm, ddustlg, tdustsm, tdustlg, dgas, tgas, re, ze = diskinp\n",
    "    return ddustsm, ddustlg, tdustsm, tdustlg, dgas, tgas, re, ze"
   ]
  },
  {
   "cell_type": "code",
   "execution_count": null,
   "metadata": {},
   "outputs": [],
   "source": [
    "bigdisk = open_pickles('/Users/arcticfox/Documents/disks/models/bigdisk')\n",
    "bigdisk100 = open_pickles('/Users/arcticfox/Documents/disks/models/bigdisk100')       "
   ]
  },
  {
   "cell_type": "code",
   "execution_count": null,
   "metadata": {},
   "outputs": [],
   "source": [
    "12000**4/6000**4"
   ]
  },
  {
   "cell_type": "code",
   "execution_count": null,
   "metadata": {},
   "outputs": [],
   "source": [
    "fig, (ax1, ax2, ax3) = plt.subplots(ncols=3, figsize=(14,6))\n",
    "\n",
    "dat100 = np.rot90(bigdisk100[3]+bigdisk100[2],3)\n",
    "tdust_ticks = np.linspace(30,500,9)\n",
    "im = ax2.imshow(dat100, origin='lower',\n",
    "           norm= mpl.colors.LogNorm(vmin=np.nanmin(tdust_ticks), \n",
    "                                    vmax=np.nanmax(tdust_ticks)),\n",
    "           cmap='RdYlBu_r')\n",
    "ax2.set_title('L=100Lsun')\n",
    "\n",
    "dat = np.rot90(bigdisk[3]+bigdisk[2],3)\n",
    "ax1.imshow(dat, origin='lower',\n",
    "           norm= mpl.colors.LogNorm(vmin=np.nanmin(tdust_ticks), \n",
    "                                    vmax=np.nanmax(tdust_ticks)),\n",
    "           cmap='RdYlBu_r')\n",
    "\n",
    "ax3.imshow(dat100-dat, origin='lower',\n",
    "           norm= mpl.colors.LogNorm(vmin=np.nanmin(tdust_ticks), \n",
    "                                    vmax=np.nanmax(tdust_ticks)),\n",
    "           cmap='RdYlBu_r')"
   ]
  },
  {
   "cell_type": "code",
   "execution_count": null,
   "metadata": {},
   "outputs": [],
   "source": [
    "star100 = np.loadtxt('/Users/arcticfox/Documents/disks/models/bigdisk100/starspec.txt')\n",
    "star = np.loadtxt('/Users/arcticfox/Documents/disks/models/bigdisk/starspec.txt')"
   ]
  },
  {
   "cell_type": "code",
   "execution_count": null,
   "metadata": {},
   "outputs": [],
   "source": [
    "plt.figure(figsize=(10,5))\n",
    "plt.plot(star100[0], star100[1], label='100x luminosity')\n",
    "plt.plot(star[0],star[1], label='normal luminosity')\n",
    "plt.legend()\n",
    "plt.yscale('log')\n",
    "plt.xscale('log')"
   ]
  },
  {
   "cell_type": "code",
   "execution_count": null,
   "metadata": {},
   "outputs": [],
   "source": [
    "((6000*3)/5777)**4"
   ]
  },
  {
   "cell_type": "code",
   "execution_count": null,
   "metadata": {},
   "outputs": [],
   "source": []
  }
 ],
 "metadata": {
  "kernelspec": {
   "display_name": "Python 3",
   "language": "python",
   "name": "python3"
  },
  "language_info": {
   "codemirror_mode": {
    "name": "ipython",
    "version": 3
   },
   "file_extension": ".py",
   "mimetype": "text/x-python",
   "name": "python",
   "nbconvert_exporter": "python",
   "pygments_lexer": "ipython3",
   "version": "3.7.3"
  }
 },
 "nbformat": 4,
 "nbformat_minor": 2
}
