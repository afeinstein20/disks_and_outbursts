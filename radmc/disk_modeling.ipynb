{
 "cells": [
  {
   "cell_type": "code",
   "execution_count": 3,
   "metadata": {},
   "outputs": [],
   "source": [
    "import yaml\n",
    "import pickle\n",
    "import os, sys\n",
    "import numpy as np\n",
    "import matplotlib.pyplot as plt\n",
    "from astropy.table import Table\n",
    "import matplotlib as mpl\n",
    "from astropy import constants, units\n",
    "from mpl_toolkits.axes_grid1 import make_axes_locatable\n",
    "\n",
    "\n",
    "from scripts import *\n",
    "\n",
    "plt.rcParams['font.size'] = 16\n",
    "path = '/Users/arcticfox/Documents/GitHub/disks_and_outbursts/radmc'\n",
    "path = '/Users/arcticfox/Documents/disks'"
   ]
  },
  {
   "cell_type": "code",
   "execution_count": 4,
   "metadata": {},
   "outputs": [],
   "source": [
    "def open_pickles(path):\n",
    "    with open(os.path.join(path,'diskdata_interpolated.pkl'), 'rb') as infile:\n",
    "              diskinp = pickle.load(infile)\n",
    "              ddustsm, ddustlg, tdustsm, tdustlg, dgas, tgas, re, ze = diskinp\n",
    "    return ddustsm, ddustlg, tdustsm, tdustlg, dgas, tgas, re, ze"
   ]
  },
  {
   "cell_type": "markdown",
   "metadata": {},
   "source": [
    "## RADMC model call"
   ]
  },
  {
   "cell_type": "code",
   "execution_count": null,
   "metadata": {
    "scrolled": true
   },
   "outputs": [],
   "source": [
    "norm = setup(PATH=path, models=['bigdisk'], \n",
    "             uv=False, run=True, ndust=2,\n",
    "             disk_params={'r_in':0.1, 'r_out':50.0, 'r_peb':50.0, 'r_snow':0.},\n",
    "             grid_params={'ntheta':90, \n",
    "                          'nr':110, \n",
    "                          'n_in':0.05},\n",
    "             #star_params={'L_uv_star':6*10**2},\n",
    "             disk_type='herbig', nphot=10**8)\n",
    "            ## nr = 100; ntheta=96"
   ]
  },
  {
   "cell_type": "code",
   "execution_count": null,
   "metadata": {},
   "outputs": [],
   "source": [
    "norm = setup(PATH=path, models=['bigdisk100_newhh'], \n",
    "             uv=True, run=True, ndust=2, \n",
    "             hh=1.8718753121556624,\n",
    "             disk_params={'r_in':0.1, 'r_out':50.0, 'r_peb':50.0, 'r_snow':0},\n",
    "             grid_params={'ntheta':90, \n",
    "                          'nr':110, \n",
    "                          'n_in':0.05},\n",
    "             star_params={'L_uv_star':6*10**4},\n",
    "             disk_type='herbig', nphot=10**9)\n",
    "            ## nr = 100; ntheta=96"
   ]
  },
  {
   "cell_type": "code",
   "execution_count": null,
   "metadata": {},
   "outputs": [],
   "source": [
    "new_bigdisk100 = open_pickles('/Users/arcticfox/Documents/disks/models/bigdisk100_newhh/')       "
   ]
  },
  {
   "cell_type": "markdown",
   "metadata": {},
   "source": [
    "## Increase stellar luminosity & UV component"
   ]
  },
  {
   "cell_type": "markdown",
   "metadata": {},
   "source": [
    "$\\frac{L}{L_B} \\propto \\frac{T^4}{T_B^4}$\n",
    "\n",
    "$T \\propto \\left( \\frac{100 L_B}{L_B}*T_B^4 \\right)^{1/4}$"
   ]
  },
  {
   "cell_type": "code",
   "execution_count": null,
   "metadata": {},
   "outputs": [],
   "source": [
    "(100*6000**4)**0.25"
   ]
  },
  {
   "cell_type": "code",
   "execution_count": null,
   "metadata": {},
   "outputs": [],
   "source": [
    "norm = setup(PATH=path, models=['lstar_test'], \n",
    "             uv=False, run=True, ndust=2, #hh=new_hh,\n",
    "             disk_params={'r_in':0.1, 'r_out':50.0, 'r_peb':50.0, 'r_snow':0.1},\n",
    "             grid_params={'ntheta':90, \n",
    "                          'nr':110, \n",
    "                          'n_in':0.05},\n",
    "             star_params={'L_star':6*200,\n",
    "                          'T_star':15000},\n",
    "             disk_type='herbig', nphot=10**6)\n",
    "            ## nr = 100; ntheta=96"
   ]
  },
  {
   "cell_type": "code",
   "execution_count": null,
   "metadata": {},
   "outputs": [],
   "source": [
    "bigdisk100_L = open_pickles('/Users/arcticfox/Documents/disks/models/bigdisk100_lum')       \n",
    "f = np.nanmedian((bigdisk100_L[3]+bigdisk100_L[2])/(bigdisk[3]+bigdisk[2]))\n",
    "new_hh = f**0.5\n",
    "print(f, new_hh)"
   ]
  },
  {
   "cell_type": "code",
   "execution_count": null,
   "metadata": {},
   "outputs": [],
   "source": [
    "norm = setup(PATH=path, models=['bigdisk100_lum'], \n",
    "             uv=True, run=True, ndust=2, hh=new_hh,\n",
    "             disk_params={'r_in':0.1, 'r_out':50.0, 'r_peb':50.0, 'r_snow':0},\n",
    "             grid_params={'ntheta':90, \n",
    "                          'nr':110, \n",
    "                          'n_in':0.05},\n",
    "             star_params={'L_uv_star':6*10**4,\n",
    "                          'T_star':(100*6000**4)**(0.25)},\n",
    "             disk_type='herbig', nphot=10**8)\n",
    "            ## nr = 100; ntheta=96"
   ]
  },
  {
   "cell_type": "markdown",
   "metadata": {},
   "source": [
    "## TW Hydrae Modeling"
   ]
  },
  {
   "cell_type": "markdown",
   "metadata": {},
   "source": [
    "$T \\propto \\left( \\frac{100 L_B}{L_B}*T_B^4 \\right)^{1/4}$"
   ]
  },
  {
   "cell_type": "code",
   "execution_count": 5,
   "metadata": {},
   "outputs": [],
   "source": [
    "path = '/Users/arcticfox/Documents/disks'"
   ]
  },
  {
   "cell_type": "code",
   "execution_count": 6,
   "metadata": {},
   "outputs": [
    {
     "data": {
      "text/plain": [
       "7308.728375259972"
      ]
     },
     "execution_count": 6,
     "metadata": {},
     "output_type": "execute_result"
    }
   ],
   "source": [
    "L_B = 0.54\n",
    "T_B = 4110\n",
    "((10*L_B)/L_B * T_B**4)**(0.25)"
   ]
  },
  {
   "cell_type": "code",
   "execution_count": null,
   "metadata": {},
   "outputs": [],
   "source": [
    "norm = setup(PATH=path, models=['twhydrae/baseline'], \n",
    "             uv=False, run=True, ndust=2,\n",
    "             disk_params={'r_in':0.1, 'r_out':50.0, \n",
    "                          'r_peb':50.0, 'r_snow':0,\n",
    "                          'Tc_atm':125},\n",
    "             grid_params={'ntheta':90, \n",
    "                          'nr':110, \n",
    "                          'n_in':0.05},             \n",
    "             nphot=10**9)"
   ]
  },
  {
   "cell_type": "code",
   "execution_count": 7,
   "metadata": {},
   "outputs": [
    {
     "name": "stdout",
     "output_type": "stream",
     "text": [
      "1.7041444234242167 1.3054288274066177\n"
     ]
    },
    {
     "name": "stderr",
     "output_type": "stream",
     "text": [
      "//anaconda3/lib/python3.7/site-packages/ipykernel_launcher.py:3: RuntimeWarning: invalid value encountered in true_divide\n",
      "  This is separate from the ipykernel package so we can avoid doing imports until\n"
     ]
    }
   ],
   "source": [
    "og  = open_pickles('/Users/arcticfox/Documents/disks/models/twhydrae/baseline/') \n",
    "L10 = open_pickles('/Users/arcticfox/Documents/disks/models/twhydrae/l10/')\n",
    "f = np.nanmedian((L10[3][:,:30]+L10[2][:,:30])/(og[3][:,:30]+og[2][:,:30]))\n",
    "new_hh_10 = f**0.5\n",
    "print(f, new_hh_10)"
   ]
  },
  {
   "cell_type": "code",
   "execution_count": 8,
   "metadata": {},
   "outputs": [
    {
     "name": "stdout",
     "output_type": "stream",
     "text": [
      "2.98484059921003 1.7276691231859271\n"
     ]
    },
    {
     "name": "stderr",
     "output_type": "stream",
     "text": [
      "//anaconda3/lib/python3.7/site-packages/ipykernel_launcher.py:2: RuntimeWarning: invalid value encountered in true_divide\n",
      "  \n"
     ]
    }
   ],
   "source": [
    "L100 = open_pickles('/Users/arcticfox/Documents/disks/models/twhydrae/l100/')\n",
    "f = np.nanmedian((L100[3][:,:30]+L100[2][:,:30])/(og[3][:,:30]+og[2][:,:30]))\n",
    "new_hh_100 = f**0.5\n",
    "print(f, new_hh_100)"
   ]
  },
  {
   "cell_type": "code",
   "execution_count": null,
   "metadata": {},
   "outputs": [
    {
     "name": "stdout",
     "output_type": "stream",
     "text": [
      "1.3054288274066177\n",
      "/Users/arcticfox/Documents/disks/models/twhydrae/l10_newhh/model_inputs.yaml\n",
      "twhydrae/l10_newhh\n",
      "saved star spectrum\n",
      "cell centers :  [ 0.05162029  0.05496587  0.05852829  0.0623216   0.06636076  0.0706617\n",
      "  0.07524138  0.08011789  0.08531045  0.09083955  0.09672699  0.10299601\n",
      "  0.10967134  0.1167793   0.12434794  0.13240712  0.14098862  0.1501263\n",
      "  0.15985621  0.17021673  0.18124873  0.19299572  0.20550406  0.21882309\n",
      "  0.23300534  0.24810676  0.26418693  0.28130928  0.29954135  0.31895507\n",
      "  0.33962702  0.36163875  0.3850771   0.41003452  0.43660946  0.46490677\n",
      "  0.49503807  0.52712222  0.5612858   0.59766356  0.63639903  0.67764499\n",
      "  0.72156417  0.76832982  0.81812642  0.87115041  0.92761096  0.9877308\n",
      "  1.0517471   1.1199124   1.19249558  1.269783    1.35207952  1.4397098\n",
      "  1.53301953  1.63237681  1.73817358  1.85082719  1.97078205  2.09851136\n",
      "  2.234519    2.3793415   2.53355016  2.69775331  2.87259871  3.05877611\n",
      "  3.25701993  3.46811223  3.69288574  3.93222715  4.18708064  4.45845156\n",
      "  4.74741043  5.05509716  5.38272552  5.73158796  6.10306069  6.49860913\n",
      "  6.91979364  7.36827575  7.84582466  8.35432421  8.89578038  9.47232913\n",
      " 10.08624486 10.73994938 11.43602146 12.17720701 12.96642989 13.80680348\n",
      " 14.70164294 15.65447826 16.66906827 17.74941536 18.89978134 20.12470426\n",
      " 21.42901626 22.81786265 24.29672224 25.87142892 27.54819468 29.33363412\n",
      " 31.23479054 33.25916374 35.41473957 37.71002148 40.15406402 42.75650858\n",
      " 45.52762145 48.47833426]\n",
      "Saved radmc setup files in /Users/arcticfox/Documents/disks/models/twhydrae/l10_newhh\n",
      "completed thermal mc\n",
      "Reading amr_grid.inp\n",
      "Reading wavelength_micron.inp\n",
      "Reading dust_density.inp\n",
      "Reading dust_temperature.dat\n"
     ]
    }
   ],
   "source": [
    "norm = setup(PATH=path, models=['twhydrae/l10_newhh'], \n",
    "             uv=False, run=True, ndust=2, hh=new_hh_10,\n",
    "             disk_params={'r_in':0.1, 'r_out':50.0, 'r_peb':50.0, 'r_snow':0},\n",
    "             grid_params={'ntheta':90, \n",
    "                          'nr':110, \n",
    "                          'n_in':0.05},\n",
    "             star_params={'T_star':((10*L_B)/L_B * T_B**4)**(0.25),\n",
    "                          'L_star':5.4},\n",
    "             nphot=10**9)"
   ]
  },
  {
   "cell_type": "code",
   "execution_count": null,
   "metadata": {},
   "outputs": [],
   "source": [
    "norm = setup(PATH=path, models=['twhydrae/l100_newhh'], \n",
    "             uv=False, run=True, ndust=2, hh=new_hh_100,\n",
    "             disk_params={'r_in':0.1, 'r_out':50.0, 'r_peb':50.0, 'r_snow':0},\n",
    "             grid_params={'ntheta':90, \n",
    "                          'nr':110, \n",
    "                          'n_in':0.05},\n",
    "             star_params={'T_star':((100*L_B)/L_B * T_B**4)**(0.25),\n",
    "                          'L_star':L_B*100},\n",
    "             nphot=10**9)"
   ]
  },
  {
   "cell_type": "code",
   "execution_count": null,
   "metadata": {},
   "outputs": [],
   "source": []
  }
 ],
 "metadata": {
  "kernelspec": {
   "display_name": "Python 3",
   "language": "python",
   "name": "python3"
  },
  "language_info": {
   "codemirror_mode": {
    "name": "ipython",
    "version": 3
   },
   "file_extension": ".py",
   "mimetype": "text/x-python",
   "name": "python",
   "nbconvert_exporter": "python",
   "pygments_lexer": "ipython3",
   "version": "3.7.3"
  }
 },
 "nbformat": 4,
 "nbformat_minor": 2
}
